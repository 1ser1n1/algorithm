{
  "nbformat": 4,
  "nbformat_minor": 0,
  "metadata": {
    "colab": {
      "name": "재귀함수",
      "provenance": [],
      "authorship_tag": "ABX9TyO5Tr4JrIEJyGWNnUEhdeH6",
      "include_colab_link": true
    },
    "kernelspec": {
      "name": "python3",
      "display_name": "Python 3"
    },
    "language_info": {
      "name": "python"
    }
  },
  "cells": [
    {
      "cell_type": "markdown",
      "metadata": {
        "id": "view-in-github",
        "colab_type": "text"
      },
      "source": [
        "<a href=\"https://colab.research.google.com/github/1ser1n1/algorithm/blob/main/%EC%9E%AC%EA%B7%80%ED%95%A8%EC%88%98.ipynb\" target=\"_parent\"><img src=\"https://colab.research.google.com/assets/colab-badge.svg\" alt=\"Open In Colab\"/></a>"
      ]
    },
    {
      "cell_type": "markdown",
      "source": [
        "# **재귀함수**"
      ],
      "metadata": {
        "id": "n9NMFp4sq7fW"
      }
    },
    {
      "cell_type": "markdown",
      "source": [
        "\n",
        "\n",
        "---\n",
        "\n",
        "> **Recursive case:** 현 문제가 너무 커서, 같은 형태의 더 작은 부분 문제를 재귀적으로 푸는 경우  \n",
        "**Base case:** 이미 문제가 충분히 작아서, 더 작은 부분 문제로 나누지 않고도 바로 답을 알 수 있는 경우\n",
        "\n",
        "\n"
      ],
      "metadata": {
        "id": "brjitVSEq-uJ"
      }
    },
    {
      "cell_type": "markdown",
      "source": [
        "1. 피보나치 수열"
      ],
      "metadata": {
        "id": "wuKdL8QPrZql"
      }
    },
    {
      "cell_type": "code",
      "source": [
        "# n번째 피보나치 수를 리턴\n",
        "def fib(n):\n",
        "    if n == 1 or n == 0:\n",
        "        return n\n",
        "    else:\n",
        "        return fib(n-1)+fib(n-2)\n",
        "    \n",
        "\n",
        "# 테스트: fib(1)부터 fib(10)까지 출력\n",
        "for i in range(1, 11):\n",
        "    print(fib(i))"
      ],
      "metadata": {
        "colab": {
          "base_uri": "https://localhost:8080/"
        },
        "id": "BgX6o0Y5rbhc",
        "outputId": "8b9969f4-d74d-45e3-944f-41dc4053249b"
      },
      "execution_count": null,
      "outputs": [
        {
          "output_type": "stream",
          "name": "stdout",
          "text": [
            "1\n",
            "1\n",
            "2\n",
            "3\n",
            "5\n",
            "8\n",
            "13\n",
            "21\n",
            "34\n",
            "55\n"
          ]
        }
      ]
    },
    {
      "cell_type": "markdown",
      "source": [
        "2. 1부터 N번째까지 숫자 합"
      ],
      "metadata": {
        "id": "rG06TFEMr92C"
      }
    },
    {
      "cell_type": "code",
      "source": [
        "# 1부터 n까지의 합을 리턴\n",
        "def triangle_number(n):\n",
        "    if n == 1:\n",
        "        return 1\n",
        "    else:\n",
        "        return triangle_number(n-1)+n\n",
        "\n",
        "# 테스트: triangle_number(1)부터 triangle_number(10)까지 출력\n",
        "for i in range(1, 11):\n",
        "    print(triangle_number(i))"
      ],
      "metadata": {
        "colab": {
          "base_uri": "https://localhost:8080/"
        },
        "id": "3lIw3YAisAhD",
        "outputId": "b8b82fef-d3d3-4e44-dcf6-1d83dc0b0f13"
      },
      "execution_count": null,
      "outputs": [
        {
          "output_type": "stream",
          "name": "stdout",
          "text": [
            "1\n",
            "3\n",
            "6\n",
            "10\n",
            "15\n",
            "21\n",
            "28\n",
            "36\n",
            "45\n",
            "55\n"
          ]
        }
      ]
    },
    {
      "cell_type": "markdown",
      "source": [
        "3. 자릿수합"
      ],
      "metadata": {
        "id": "gjbD-osyz5Us"
      }
    },
    {
      "cell_type": "code",
      "source": [
        "# n의 각 자릿수의 합을 리턴\n",
        "def sum_digits(n):\n",
        "    # 코드를 작성하세요.\n",
        "    n = list(str(n))\n",
        "    \n",
        "    if len(n) == 1:\n",
        "        return int(n[0])\n",
        "    else:\n",
        "        return sum_digits(int(\"\".join(n[:len(n)-1])))+int(n[len(n)-1])\n",
        "        \n",
        "# 테스트\n",
        "print(sum_digits(22541))\n",
        "print(sum_digits(92130))\n",
        "print(sum_digits(12634))\n",
        "print(sum_digits(704))\n",
        "print(sum_digits(3755))"
      ],
      "metadata": {
        "colab": {
          "base_uri": "https://localhost:8080/"
        },
        "id": "H5ZoSlH5wV49",
        "outputId": "737c43a5-2050-423f-aa9e-1ae9b3dbc50f"
      },
      "execution_count": null,
      "outputs": [
        {
          "output_type": "stream",
          "name": "stdout",
          "text": [
            "14\n",
            "15\n",
            "16\n",
            "11\n",
            "20\n"
          ]
        }
      ]
    },
    {
      "cell_type": "code",
      "source": [
        "def sum_digits(n):\n",
        "    # base case\n",
        "    if n < 10:\n",
        "        return n\n",
        "\n",
        "    # recursive case\n",
        "    return n % 10 + sum_digits(n // 10)\n",
        "\n",
        "print(sum_digits(22541))\n",
        "print(sum_digits(92130))\n",
        "print(sum_digits(12634))\n",
        "print(sum_digits(704))\n",
        "print(sum_digits(3755))"
      ],
      "metadata": {
        "id": "QXgCcY3oz9rU",
        "outputId": "d5c4f1c9-4562-4497-c127-000d442deace",
        "colab": {
          "base_uri": "https://localhost:8080/"
        }
      },
      "execution_count": null,
      "outputs": [
        {
          "output_type": "stream",
          "name": "stdout",
          "text": [
            "14\n",
            "15\n",
            "16\n",
            "11\n",
            "20\n"
          ]
        }
      ]
    },
    {
      "cell_type": "markdown",
      "source": [
        "4. 리스트 뒤집기"
      ],
      "metadata": {
        "id": "3CmJsLyuaTiN"
      }
    },
    {
      "cell_type": "code",
      "source": [
        "def flip(some_list):\n",
        "    # 코드를 입력하세요.\n",
        "    reverse_list = []\n",
        "    if len(some_list) == 0 or len(some_list) == 1:\n",
        "        return some_list\n",
        "    return some_list[-1:] + flip(some_list[:-1])\n",
        "# 테스트\n",
        "some_list = [1, 2, 3, 4, 5, 6, 7, 8, 9]\n",
        "some_list = flip(some_list) \n",
        "print(some_list)"
      ],
      "metadata": {
        "colab": {
          "base_uri": "https://localhost:8080/"
        },
        "id": "hSgr8rWgaVEC",
        "outputId": "b20886b7-205c-462a-f2cb-c1cdd76b4ba1"
      },
      "execution_count": 12,
      "outputs": [
        {
          "output_type": "stream",
          "name": "stdout",
          "text": [
            "[9, 8, 7, 6, 5, 4, 3, 2, 1]\n"
          ]
        }
      ]
    },
    {
      "cell_type": "markdown",
      "source": [
        "5. 이진탐색 재귀로 구현"
      ],
      "metadata": {
        "id": "ooXXiIZahrc_"
      }
    },
    {
      "cell_type": "code",
      "source": [
        "def binary_search(element, some_list, start_index=0, end_index=None):\n",
        "    # end_index가 따로 주어지지 않은 경우에는 리스트의 마지막 인덱스\n",
        "    if end_index == None:\n",
        "        end_index = len(some_list) - 1\n",
        "    \n",
        "    #Base case: element가 some_list안에 없을경우\n",
        "    if start_index > end_index:\n",
        "        return None\n",
        "        \n",
        "    #Base case: element요소를 찾았을 경우\n",
        "    center = (start_index+end_index)//2\n",
        "    if some_list[center] == element:\n",
        "        return center\n",
        "    \n",
        "    #Recursive case:\n",
        "    if element < some_list[center]:\n",
        "        return binary_search(element, some_list, start_index, center-1)\n",
        "    else:\n",
        "        return binary_search(element, some_list, center+1, end_index)\n",
        "    \n",
        "    \n",
        "    \n",
        "\n",
        "print(binary_search(2, [2, 3, 5, 7, 11]))\n",
        "print(binary_search(0, [2, 3, 5, 7, 11]))\n",
        "print(binary_search(5, [2, 3, 5, 7, 11]))\n",
        "print(binary_search(3, [2, 3, 5, 7, 11]))\n",
        "print(binary_search(11, [2, 3, 5, 7, 11]))"
      ],
      "metadata": {
        "colab": {
          "base_uri": "https://localhost:8080/"
        },
        "id": "9ZIZEluyhtoH",
        "outputId": "71b4e48b-d5cb-46a9-b895-3e308fa6aa10"
      },
      "execution_count": 14,
      "outputs": [
        {
          "output_type": "stream",
          "name": "stdout",
          "text": [
            "0\n",
            "None\n",
            "2\n",
            "1\n",
            "4\n"
          ]
        }
      ]
    }
  ]
}