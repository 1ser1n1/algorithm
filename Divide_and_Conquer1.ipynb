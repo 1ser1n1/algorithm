{
  "nbformat": 4,
  "nbformat_minor": 0,
  "metadata": {
    "colab": {
      "name": "Divide and Conquer1",
      "provenance": [],
      "authorship_tag": "ABX9TyOK2zSqCkyWvySLPb+Ofcu7",
      "include_colab_link": true
    },
    "kernelspec": {
      "name": "python3",
      "display_name": "Python 3"
    },
    "language_info": {
      "name": "python"
    }
  },
  "cells": [
    {
      "cell_type": "markdown",
      "metadata": {
        "id": "view-in-github",
        "colab_type": "text"
      },
      "source": [
        "<a href=\"https://colab.research.google.com/github/1ser1n1/algorithm/blob/main/Divide_and_Conquer1.ipynb\" target=\"_parent\"><img src=\"https://colab.research.google.com/assets/colab-badge.svg\" alt=\"Open In Colab\"/></a>"
      ]
    },
    {
      "cell_type": "markdown",
      "source": [
        "# **Divide and Conquer**"
      ],
      "metadata": {
        "id": "d2dPAIOEdcVn"
      }
    },
    {
      "cell_type": "markdown",
      "source": [
        "> 답을 알아내기 어려운 문제를 같은 형태의 부분 문제로 나누어 이 답을 이용해 기존 문제를 해결하는 방법\n",
        "\n",
        "1. Divide: 기존 문제 f(x)에서 인풋 x를 x1r과 x2등으로 나눔\n",
        "2. Conquer: 부분문제를 해결하기위해 f(x1)과 f(x)를 이용해 답을 도출\n",
        "3. Combine: 앞서 도출된 답을 통해 기존 문제  f(x)해결"
      ],
      "metadata": {
        "id": "3UIS4f2Fdhx3"
      }
    },
    {
      "cell_type": "markdown",
      "source": [
        "## **1. 1부터 n까지의 합**\n",
        "\n",
        "\n",
        ">  함수 consecutive_sum은 두 개의 정수 인풋 start와 end를 받고, start부터 end까지의 합을 리턴\n",
        "\n",
        "\n",
        "\n",
        "\n",
        "\n"
      ],
      "metadata": {
        "id": "l4tymQJkpPRY"
      }
    },
    {
      "cell_type": "code",
      "source": [
        "def consecutive_sum(start, end):\n",
        "    #부분문제 반으로 나누기 위해 문제의 정중앙을 정의\n",
        "    center = (start+end)//2\n",
        "    sum_number1 = 0 #x1\n",
        "    sum_number2 = 0 #x2\n",
        "    \n",
        "    #base case\n",
        "    if start == end:\n",
        "        return start\n",
        "    else: \n",
        "        #각 부문 문제를 재귀적으로 풀고, 부분 문제의 답을 더함\n",
        "        sum_number1 = consecutive_sum(start,center)  \n",
        "        sum_number2 = consecutive_sum(center+1,end) \n",
        "    return sum_number1 + sum_number2\n",
        "\n",
        "\n",
        "# 테스트\n",
        "print(consecutive_sum(1, 10))\n",
        "print(consecutive_sum(1, 100))\n",
        "print(consecutive_sum(1, 253))\n",
        "print(consecutive_sum(1, 388))"
      ],
      "metadata": {
        "colab": {
          "base_uri": "https://localhost:8080/"
        },
        "id": "S_LYc-empOpT",
        "outputId": "6fd377dd-ec60-477b-faab-f808c3cfef26"
      },
      "execution_count": null,
      "outputs": [
        {
          "output_type": "stream",
          "name": "stdout",
          "text": [
            "55\n",
            "5050\n",
            "32131\n",
            "75466\n"
          ]
        }
      ]
    },
    {
      "cell_type": "markdown",
      "source": [
        "## **합병 알고리즘**"
      ],
      "metadata": {
        "id": "Ey0vrVj_z6KP"
      }
    },
    {
      "cell_type": "markdown",
      "source": [
        "\n",
        "\n",
        "> merge 함수는 정렬된 두 리스트 list1과 list2를 받아서, 하나의 정렬된 리스트를 리턴\n",
        "\n"
      ],
      "metadata": {
        "id": "XD5wjzO7z9J6"
      }
    },
    {
      "cell_type": "code",
      "source": [
        "def merge(list1, list2):\n",
        "    # 정렬된 항목들을 담을 리스트\n",
        "    merged_list = []\n",
        "\n",
        "    i = 0\n",
        "    j = 0\n",
        "\n",
        "    # list1과 list2를 돌면서 merged_list에 추가\n",
        "    while i < len(list1) and j < len(list2):\n",
        "        if list1[i] > list2[j]:\n",
        "            merged_list.append(list2[j])\n",
        "            j += 1\n",
        "        else:\n",
        "            merged_list.append(list1[i])\n",
        "            i += 1\n",
        "    # list2에 남은 항목이 있으면 정렬 리스트에 추가\n",
        "    if i == len(list1):\n",
        "        merged_list = merged_list + list2[j:]\n",
        "    # list1에 남은 항목이 있으면 정렬 리스트에 추가\n",
        "    else:\n",
        "        merged_list = merged_list + list1[i:]\n",
        "    \n",
        "    return merged_list\n",
        "    \n",
        "# 테스트\n",
        "print(merge([1],[]))\n",
        "print(merge([],[1]))\n",
        "print(merge([2],[1]))\n",
        "print(merge([1, 2, 3, 4],[5, 6, 7, 8]))\n",
        "print(merge([5, 6, 7, 8],[1, 2, 3, 4]))\n",
        "print(merge([4, 7, 8, 9],[1, 3, 6, 10]))"
      ],
      "metadata": {
        "colab": {
          "base_uri": "https://localhost:8080/"
        },
        "id": "B8XX2Iot0C4a",
        "outputId": "47dd529e-220b-4a26-c9c5-a5b0e2fc94cc"
      },
      "execution_count": 1,
      "outputs": [
        {
          "output_type": "stream",
          "name": "stdout",
          "text": [
            "[1]\n",
            "[1]\n",
            "[1, 2]\n",
            "[1, 2, 3, 4, 5, 6, 7, 8]\n",
            "[1, 2, 3, 4, 5, 6, 7, 8]\n",
            "[1, 3, 4, 6, 7, 8, 9, 10]\n"
          ]
        }
      ]
    },
    {
      "cell_type": "markdown",
      "source": [
        "## **합병 알고리즘 2**"
      ],
      "metadata": {
        "id": "ScRB8CCG5fu6"
      }
    },
    {
      "cell_type": "markdown",
      "source": [
        "\n",
        "\n",
        "> 파라미터로 리스트 하나를 받고 정렬된 새로운 리스트 리턴\n"
      ],
      "metadata": {
        "id": "OBo_ww0N5ku1"
      }
    },
    {
      "cell_type": "code",
      "source": [
        "def merge(list1, list2):\n",
        "    # 정렬된 항목들을 담을 리스트\n",
        "    merged_list = []\n",
        "\n",
        "    i = 0\n",
        "    j = 0\n",
        "\n",
        "    # list1과 list2를 돌면서 merged_list에 추가\n",
        "    while i < len(list1) and j < len(list2):\n",
        "        if list1[i] > list2[j]:\n",
        "            merged_list.append(list2[j])\n",
        "            j += 1\n",
        "        else:\n",
        "            merged_list.append(list1[i])\n",
        "            i += 1\n",
        "    # list2에 남은 항목이 있으면 정렬 리스트에 추가\n",
        "    if i == len(list1):\n",
        "        merged_list = merged_list + list2[j:]\n",
        "    # list1에 남은 항목이 있으면 정렬 리스트에 추가\n",
        "    else:\n",
        "        merged_list = merged_list + list1[i:]\n",
        "    \n",
        "    return merged_list\n",
        "    \n",
        "# 합병 정렬\n",
        "def merge_sort(my_list):\n",
        "    #리스트를 반반나누어 함수를 재귀적으로 호출하여 정렬시키는 함수\n",
        "\n",
        "    center = len(my_list)//2 #리스트를 반으로 나누기 위한 중심\n",
        "    \n",
        "    #base case 리스트의 갯수가 1일때 \n",
        "    if len(my_list) == 1: \n",
        "        return list(my_list)\n",
        "    else:\n",
        "        list1 = merge_sort(my_list[:center]) #왼쪽반\n",
        "        list2 = merge_sort(my_list[center:]) #오른쪽 반\n",
        "        return merge(list1,list2) #합침\n",
        "\n",
        "\n",
        "# 테스트\n",
        "print(merge_sort([1, 3, 5, 7, 9, 11, 13, 11]))\n",
        "print(merge_sort([28, 13, 9, 30, 1, 48, 5, 7, 15]))\n",
        "print(merge_sort([2, 5, 6, 7, 1, 2, 4, 7, 10, 11, 4, 15, 13, 1, 6, 4]))"
      ],
      "metadata": {
        "colab": {
          "base_uri": "https://localhost:8080/"
        },
        "id": "3PRdiJ1D5pao",
        "outputId": "a1d998c0-8b6d-4b09-9163-193ad23778a2"
      },
      "execution_count": 2,
      "outputs": [
        {
          "output_type": "stream",
          "name": "stdout",
          "text": [
            "[1, 3, 5, 7, 9, 11, 11, 13]\n",
            "[1, 5, 7, 9, 13, 15, 28, 30, 48]\n",
            "[1, 1, 2, 2, 4, 4, 4, 5, 6, 6, 7, 7, 10, 11, 13, 15]\n"
          ]
        }
      ]
    }
  ]
}