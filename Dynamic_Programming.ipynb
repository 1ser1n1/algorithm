{
  "nbformat": 4,
  "nbformat_minor": 0,
  "metadata": {
    "colab": {
      "name": "Dynamic Programming",
      "provenance": [],
      "authorship_tag": "ABX9TyPECD1KSKMIjYq7haQ+vFp4",
      "include_colab_link": true
    },
    "kernelspec": {
      "name": "python3",
      "display_name": "Python 3"
    },
    "language_info": {
      "name": "python"
    }
  },
  "cells": [
    {
      "cell_type": "markdown",
      "metadata": {
        "id": "view-in-github",
        "colab_type": "text"
      },
      "source": [
        "<a href=\"https://colab.research.google.com/github/1ser1n1/algorithm/blob/main/Dynamic_Programming.ipynb\" target=\"_parent\"><img src=\"https://colab.research.google.com/assets/colab-badge.svg\" alt=\"Open In Colab\"/></a>"
      ]
    },
    {
      "cell_type": "markdown",
      "source": [
        "# **01. 최적 부분 구조 (Optimal Substructure)**\n"
      ],
      "metadata": {
        "id": "tAoU0O3rC9VQ"
      }
    },
    {
      "cell_type": "markdown",
      "source": [
        "> 최적 부분 구조가 있다는 건...   \n",
        "> `부분 문제`들의 최적의 답을 이용해서 `기존 문제`의 최적의 답을 구할 수 있다는 것\n",
        "\n",
        "\n",
        "\n"
      ],
      "metadata": {
        "id": "gHVZYJ27DAoq"
      }
    },
    {
      "cell_type": "markdown",
      "source": [
        "# **02. Dynamic Programming**\n",
        "\n"
      ],
      "metadata": {
        "id": "XYBUCfAjEUHp"
      }
    },
    {
      "cell_type": "markdown",
      "source": [
        "1. 최적 부분 구조가 있다.\n",
        "2. 중복되는 부분 문제 들이 있다.\n",
        "\n",
        "**=> Dunamic Programming**으로 문제 해결   \n",
        "> Dynamic Programming란? 한번 계산한 결과를 재활용하는 방식\n",
        "\n",
        "   \n",
        "\n",
        "- **구현 방법**   \n",
        "  1. memoization\n",
        "  2. tabulation\n",
        "   \n",
        "\n",
        "1. **memoization**\n",
        "  : 중복되는 계산을 한번만 계산 후 메모, 재귀를 기반, 하향식 접근\n",
        "  - cache 계산 후 저장하는 공간\n",
        "\n",
        "2. **tabelation** : 상향식 접근방식, 반복문을 사용"
      ],
      "metadata": {
        "id": "W6MeVf3FEfIa"
      }
    },
    {
      "cell_type": "markdown",
      "source": [
        "**피보나치 수열 memoization**"
      ],
      "metadata": {
        "id": "bqO-nfEQOLgy"
      }
    },
    {
      "cell_type": "code",
      "source": [
        "def fib_memo(n, cache):\n",
        "    # base case\n",
        "    if n < 3:\n",
        "        return 1\n",
        "        \n",
        "    # 이미 n번째 피보나치를 계산했으면:\n",
        "    # 저장된 값을 바로 리턴한다\n",
        "    if n in cache:\n",
        "        return cache[n]\n",
        "    \n",
        "    # 아직 n번째 피보나치 수를 계산하지 않았으면:\n",
        "    # 계산을 한 후 cache에 저장\n",
        "    cache[n] = fib_memo(n - 1, cache) + fib_memo(n - 2, cache)\n",
        "\n",
        "    # 계산한 값을 리턴한다\n",
        "    return cache[n]\n",
        "\n",
        "def fib(n):\n",
        "    # n번째 피보나치 수를 담는 사전\n",
        "    fib_cache = {}\n",
        "\n",
        "    return fib_memo(n, fib_cache)\n",
        "\n",
        "# 테스트\n",
        "print(fib(10))\n",
        "print(fib(50))\n",
        "print(fib(100))"
      ],
      "metadata": {
        "colab": {
          "base_uri": "https://localhost:8080/"
        },
        "id": "0rM9lrnmOHgZ",
        "outputId": "e7828be1-dae1-4e30-e31e-f3cf4e766a0a"
      },
      "execution_count": null,
      "outputs": [
        {
          "output_type": "stream",
          "name": "stdout",
          "text": [
            "55\n",
            "12586269025\n",
            "354224848179261915075\n"
          ]
        }
      ]
    },
    {
      "cell_type": "markdown",
      "source": [
        "**피보나치 수열 tabulation**"
      ],
      "metadata": {
        "id": "2MAU7m_HO5wm"
      }
    },
    {
      "cell_type": "code",
      "source": [
        "def fib_tab(n):\n",
        "    cache = {}\n",
        "    for i in range(1,n+1):\n",
        "        if i < 3:\n",
        "            cache[i] = 1\n",
        "        else:\n",
        "            cache[i] = cache[i-1] + cache[i-2]\n",
        "        \n",
        "    return cache[n]\n",
        "            \n",
        "        \n",
        "\n",
        "# 테스트\n",
        "print(fib_tab(10))\n",
        "print(fib_tab(56))\n",
        "print(fib_tab(132))"
      ],
      "metadata": {
        "colab": {
          "base_uri": "https://localhost:8080/"
        },
        "id": "wbn2Ocz4S_yF",
        "outputId": "377b46c9-1d67-41ba-9824-3b6b3fa6e51f"
      },
      "execution_count": null,
      "outputs": [
        {
          "output_type": "stream",
          "name": "stdout",
          "text": [
            "55\n",
            "225851433717\n",
            "1725375039079340637797070384\n"
          ]
        }
      ]
    },
    {
      "cell_type": "markdown",
      "source": [
        "- Memoization vs. Tabulation\n",
        "\n",
        "  - 공통된 점: 중복되는 부분 문제의 비효율을 해결함\n",
        "\n",
        "  - 차이점   \n",
        "  : memoization은 재귀함수 사용, tabulation 반복문을 사용   \n",
        "  tabulation은 처음부터 반복하는 거라 불필요한 계산 까지 수행할 가능성 존재   \n",
        "  memoization은 위에서 필요한 계산을 요구를 하는 것이여서 필요한 계산을 하지 않아도 됨   \n",
        "  그러나 재귀함수의 지나친 호출을 통한 사용은 안됨 !!"
      ],
      "metadata": {
        "id": "G_FCBJ9MTFYB"
      }
    },
    {
      "cell_type": "markdown",
      "source": [
        "# **03. Dynamic Programming 공간 최적화**"
      ],
      "metadata": {
        "id": "d_bREuw_T3JR"
      }
    },
    {
      "cell_type": "markdown",
      "source": [
        "> 앞선 피보나치 수열에서 n 번째 수를 구하면 되지만 처음부터 저장하여 계산함   \n",
        "> => 공간복잡도 O(n)\n",
        "\n",
        ": 모든 계산값을 저장할 필요가 없다면 ! 공간 최적화를 고려해야함"
      ],
      "metadata": {
        "id": "FmSzHAdhT7ql"
      }
    },
    {
      "cell_type": "markdown",
      "source": [
        "**피보나치 수열 공간 최적화 예시**"
      ],
      "metadata": {
        "id": "IXJS3SSZW9_f"
      }
    },
    {
      "cell_type": "code",
      "source": [
        "def fib_optimized(n):\n",
        "    current = 1\n",
        "    previous = 0\n",
        "    \n",
        "    # 반복적으로 위 변수들을 업데이트한다. \n",
        "    for i in range(n-1):\n",
        "        current, previous = current + previous, current\n",
        "    return current\n",
        "\n",
        "\n",
        "# 테스트\n",
        "print(fib_optimized(16))\n",
        "print(fib_optimized(53))\n",
        "print(fib_optimized(213))"
      ],
      "metadata": {
        "id": "Eq0cCctrW9Rb",
        "outputId": "b2a29cc5-5d59-4dea-e817-cc6df47b4bb8",
        "colab": {
          "base_uri": "https://localhost:8080/"
        }
      },
      "execution_count": null,
      "outputs": [
        {
          "output_type": "stream",
          "name": "stdout",
          "text": [
            "987\n",
            "53316291173\n",
            "146178119651438213260386312206974243796773058\n"
          ]
        }
      ]
    }
  ]
}