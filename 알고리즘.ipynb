{
  "nbformat": 4,
  "nbformat_minor": 0,
  "metadata": {
    "colab": {
      "name": "알고리즘",
      "provenance": [],
      "authorship_tag": "ABX9TyOB2+9Qm4/wo+CzFYA3nNEo",
      "include_colab_link": true
    },
    "kernelspec": {
      "name": "python3",
      "display_name": "Python 3"
    },
    "language_info": {
      "name": "python"
    }
  },
  "cells": [
    {
      "cell_type": "markdown",
      "metadata": {
        "id": "view-in-github",
        "colab_type": "text"
      },
      "source": [
        "<a href=\"https://colab.research.google.com/github/1ser1n1/algorithm/blob/main/%EC%95%8C%EA%B3%A0%EB%A6%AC%EC%A6%98.ipynb\" target=\"_parent\"><img src=\"https://colab.research.google.com/assets/colab-badge.svg\" alt=\"Open In Colab\"/></a>"
      ]
    },
    {
      "cell_type": "markdown",
      "source": [
        "# **알고리즘**\n",
        "\n"
      ],
      "metadata": {
        "id": "Q8zsLf7fgAr4"
      }
    },
    {
      "cell_type": "markdown",
      "source": [
        "> **알고리즘이란?**\n",
        "\n",
        "- 어던 문제를 해결하기 위한 자세한 방법\n",
        "- 같은 문제를 해결하더라도 다양한 알고리즘이 존재\n",
        "\n",
        "\n",
        "\n",
        "> **그렇다면 좋은 알고리즘 이란?**\n",
        "\n",
        "1. 문제를 해결하는 것\n",
        "2. 문제를 더 잘 해결하는 것\n",
        "\n",
        "이 두가지를 충족시켜야함.\n",
        "\n",
        "> **컴퓨터 알고리즘이란?**\n",
        "> 컴퓨터가 어떤 문제를 해결하기 위해서 컴퓨터가 이해할 수 있는 방식으로 정리되어 있는 해결방법\n",
        "\n",
        "*이 컴퓨터 알고리즘을 구현하기 위해선 프로그래밍 이용은 필수!! 뗄래야 뗄 수 없는 존재!*\n",
        "\n"
      ],
      "metadata": {
        "id": "RL9D-QrzgHZs"
      }
    }
  ]
}