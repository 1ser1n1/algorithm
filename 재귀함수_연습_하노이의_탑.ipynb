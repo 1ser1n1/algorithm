{
  "nbformat": 4,
  "nbformat_minor": 0,
  "metadata": {
    "colab": {
      "name": "재귀함수 연습- 하노이의 탑",
      "provenance": [],
      "authorship_tag": "ABX9TyPSZi89X7f7WuLQSTLfJQav",
      "include_colab_link": true
    },
    "kernelspec": {
      "name": "python3",
      "display_name": "Python 3"
    },
    "language_info": {
      "name": "python"
    }
  },
  "cells": [
    {
      "cell_type": "markdown",
      "metadata": {
        "id": "view-in-github",
        "colab_type": "text"
      },
      "source": [
        "<a href=\"https://colab.research.google.com/github/1ser1n1/algorithm/blob/main/%EC%9E%AC%EA%B7%80%ED%95%A8%EC%88%98_%EC%97%B0%EC%8A%B5_%ED%95%98%EB%85%B8%EC%9D%B4%EC%9D%98_%ED%83%91.ipynb\" target=\"_parent\"><img src=\"https://colab.research.google.com/assets/colab-badge.svg\" alt=\"Open In Colab\"/></a>"
      ]
    },
    {
      "cell_type": "markdown",
      "source": [
        "# **하노이의 탑**"
      ],
      "metadata": {
        "id": "5OQ2op5kdAYA"
      }
    },
    {
      "cell_type": "markdown",
      "source": [
        "문제 설명\n",
        "1. 한번에 한 원판만 옮길 수 있다.\n",
        "2. 큰 원판이 작은 원판 위에 있어서는 안된다.\n",
        "\n",
        "\n",
        "\n",
        "> 왼쪽 기둥에 있는 모든 원판들을 오른쪽 기둥으로 옮기는 것\n",
        "\n"
      ],
      "metadata": {
        "id": "tG8EzY5GdDYp"
      }
    },
    {
      "cell_type": "markdown",
      "source": [
        "**문제 해답**"
      ],
      "metadata": {
        "id": "CVPxL6ISdXmi"
      }
    },
    {
      "cell_type": "code",
      "source": [
        "def move_disk(disk_num, start_peg, end_peg):\n",
        "    print(\"%d번 원판을 %d번 기둥에서 %d번 기둥으로 이동\" % (disk_num, start_peg, end_peg))\n",
        "\n",
        "def hanoi(num_disks, start_peg, end_peg):\n",
        "    other_peg = 6 - start_peg - end_peg\n",
        "    \n",
        "    if num_disks == 0:\n",
        "        return\n",
        "    else:\n",
        "        #가장 큰 원판을 제외하고 나머지 원판들을 start_peg에서 end_peg로 이동\n",
        "        hanoi(num_disks-1,start_peg,other_peg)\n",
        "        #가장 큰 원판을 start_peg에서 end_peg로 이동\n",
        "        move_disk(num_disks, start_peg, end_peg)\n",
        "        #나머지 원판들을 other_peg에서 end_peg로 이동\n",
        "        hanoi(num_disks-1, other_peg, end_peg)\n",
        "# 테스트 코드\n",
        "hanoi(3, 1, 3)"
      ],
      "metadata": {
        "colab": {
          "base_uri": "https://localhost:8080/"
        },
        "id": "CsPuypLndWtm",
        "outputId": "77cbf422-4e5b-43c5-e053-4c76990f86aa"
      },
      "execution_count": 1,
      "outputs": [
        {
          "output_type": "stream",
          "name": "stdout",
          "text": [
            "1번 원판을 1번 기둥에서 3번 기둥으로 이동\n",
            "2번 원판을 1번 기둥에서 2번 기둥으로 이동\n",
            "1번 원판을 3번 기둥에서 2번 기둥으로 이동\n",
            "3번 원판을 1번 기둥에서 3번 기둥으로 이동\n",
            "1번 원판을 2번 기둥에서 1번 기둥으로 이동\n",
            "2번 원판을 2번 기둥에서 3번 기둥으로 이동\n",
            "1번 원판을 1번 기둥에서 3번 기둥으로 이동\n"
          ]
        }
      ]
    },
    {
      "cell_type": "markdown",
      "source": [
        "**문제 해설**"
      ],
      "metadata": {
        "id": "xOYXsRgNdd0F"
      }
    },
    {
      "cell_type": "markdown",
      "source": [
        "**1. Base case: 원판이 하나도 없을때, 옮기지 않아도 됨.**\n",
        "\n",
        "**2. 원판이 하나일 경우**\n",
        "\n",
        "  1번원판에서 3번 원판으로 바로 옮겨 주면 된다.\n",
        "\n",
        "**3. 원판이 두개 일 경우**   \n",
        "  작은 원반 하나를 두번째 원판에 옮긴뒤,  \n",
        "  2번으로 가면 된다.\n",
        "\n",
        "**4. 원판이 세개일 경우**\n",
        "  3번을 이용하여 모두 두번째 원판으로 옮긴뒤,\n",
        "  가장 큰 원반을 3번째로 옮긴다.(1번)\n",
        "\n",
        "**5 원판이 4개일 경우**\n",
        "  4번을 이용하여 모두 두번째 원판으로 옮긴 뒤,\n",
        "  가장 큰 원반을 3번째로 옮긴다.(1번)\n",
        "\n",
        "\n",
        "\n",
        "\n",
        "> Recursive case   \n",
        "> 1. 가장큰 원반을 뺀 나머지 원반을 두번째 원판으로 옮긴다.   \n",
        "> 2. 가장 큰 원판을 마지막으로 옮긴다.   \n",
        ">3. 두번째 원판의 것을 첫번째 원판으로 옮긴다.\n",
        "\n"
      ],
      "metadata": {
        "id": "vrt_G0I8djSS"
      }
    }
  ]
}