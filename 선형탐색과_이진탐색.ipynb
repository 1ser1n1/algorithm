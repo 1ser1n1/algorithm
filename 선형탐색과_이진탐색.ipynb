{
  "nbformat": 4,
  "nbformat_minor": 0,
  "metadata": {
    "colab": {
      "name": "선형탐색과 이진탐색",
      "provenance": [],
      "authorship_tag": "ABX9TyOWz88JbPMDGtPdnRKFugjo",
      "include_colab_link": true
    },
    "kernelspec": {
      "name": "python3",
      "display_name": "Python 3"
    },
    "language_info": {
      "name": "python"
    }
  },
  "cells": [
    {
      "cell_type": "markdown",
      "metadata": {
        "id": "view-in-github",
        "colab_type": "text"
      },
      "source": [
        "<a href=\"https://colab.research.google.com/github/1ser1n1/algorithm/blob/main/%EC%84%A0%ED%98%95%ED%83%90%EC%83%89%EA%B3%BC_%EC%9D%B4%EC%A7%84%ED%83%90%EC%83%89.ipynb\" target=\"_parent\"><img src=\"https://colab.research.google.com/assets/colab-badge.svg\" alt=\"Open In Colab\"/></a>"
      ]
    },
    {
      "cell_type": "markdown",
      "source": [
        "# **선형탐색 알고리즘**"
      ],
      "metadata": {
        "id": "Ykyxd4NXnhnr"
      }
    },
    {
      "cell_type": "markdown",
      "source": [
        "> 선형탐색이란, 리스트의 처음부터 끝까지 순서대로 하나씩 탐색을 진행하는 알고리즘\n",
        "\n",
        "\n",
        "\n",
        "```\n",
        "#\n",
        "def linear_search(element, some_list):\n",
        "    for i in some_list:\n",
        "        if i == element:\n",
        "            return some_list.index(i)\n",
        "    return None\n",
        "\n",
        "print(linear_search(2, [2, 3, 5, 7, 11]))\n",
        "print(linear_search(0, [2, 3, 5, 7, 11]))\n",
        "print(linear_search(5, [2, 3, 5, 7, 11]))\n",
        "print(linear_search(3, [2, 3, 5, 7, 11]))\n",
        "print(linear_search(11, [2, 3, 5, 7, 11]))\n",
        "\n",
        "```\n",
        "for문을 사용하여 리스트의 처음부터 끝까지 탐색후 일치하다면 인덱스 위치 반환, 없다면 None를 반환한다.\n",
        "\n",
        "\n",
        "\n"
      ],
      "metadata": {
        "id": "zkfAwg6Rnm2V"
      }
    },
    {
      "cell_type": "markdown",
      "source": [
        "# **이진 탐색 알고리즘**"
      ],
      "metadata": {
        "id": "uUAU-6Vpnksh"
      }
    },
    {
      "cell_type": "markdown",
      "source": [
        "\n",
        "\n",
        "> 이진탐색이란 선형 탐색 알고리즘과 달리 **정렬된 리스트**를 전제로, 1회 비교를 할 때마다탐색 범위가 절반씩 줄어드는 알고리즘\n",
        "\n",
        "\n",
        "\n"
      ],
      "metadata": {
        "id": "s9jOCskGp6rI"
      }
    },
    {
      "cell_type": "code",
      "source": [
        "def binary_search(element, some_list):\n",
        "    start_index = 0\n",
        "    end_index = len(some_list)-1\n",
        "    while start_index <= end_index:\n",
        "        center = (start_index+end_index)//2\n",
        "        if some_list[center] == element:\n",
        "            return center\n",
        "            break\n",
        "        else:\n",
        "            if element < some_list[center]:\n",
        "                end_index = center-1\n",
        "            else:\n",
        "                start_index = center+1"
      ],
      "metadata": {
        "id": "rVGhilYpuBz2"
      },
      "execution_count": null,
      "outputs": []
    },
    {
      "cell_type": "code",
      "source": [
        "print(binary_search(2, [2, 3, 5, 7, 11]))\n",
        "print(binary_search(0, [2, 3, 5, 7, 11]))\n",
        "print(binary_search(5, [2, 3, 5, 7, 11]))\n",
        "print(binary_search(3, [2, 3, 5, 7, 11]))\n",
        "print(binary_search(11, [2, 3, 5, 7, 11]))"
      ],
      "metadata": {
        "id": "xuSs5y5x3EZX",
        "outputId": "d3b6f20e-7643-4428-897a-907cef02c779",
        "colab": {
          "base_uri": "https://localhost:8080/"
        }
      },
      "execution_count": null,
      "outputs": [
        {
          "output_type": "stream",
          "name": "stdout",
          "text": [
            "0\n",
            "None\n",
            "2\n",
            "1\n",
            "4\n"
          ]
        }
      ]
    },
    {
      "cell_type": "markdown",
      "source": [
        "**선형탐색은 정렬이 되지 않은 리스트를 탐색하기 용이,**\n",
        "**이진탐색은 정렬이 된 리스트를 탐색하기에 용이하다.**\n",
        "\n",
        "> 리스트의 크기가 길어질수록 이진탐색 알고리즘을 쓰는것이 효율적이다!!\n",
        "\n",
        "\n",
        "ex. 길이가 16인 리스트를 탐색하기 위해 선형탐색은 16번을 탐색, 이진탐색은 3번만 탐색하면 된다."
      ],
      "metadata": {
        "id": "E-Lv_ZWU6Trk"
      }
    }
  ]
}